{
 "cells": [
  {
   "cell_type": "code",
   "execution_count": 79,
   "metadata": {},
   "outputs": [
    {
     "data": {
      "text/plain": [
       "[<matplotlib.lines.Line2D at 0x14cb7f3d2da0>]"
      ]
     },
     "execution_count": 79,
     "metadata": {},
     "output_type": "execute_result"
    },
    {
     "data": {
      "image/png": "[encoded data removed]",
      "text/plain": [
       "<Figure size 432x288 with 1 Axes>"
      ]
     },
     "metadata": {},
     "output_type": "display_data"
    }
   ],
   "source": [
    "from decimal import *\n",
    "from decimal import Decimal as D\n",
    "import numpy as np\n",
    "getcontext().prec = 1000\n",
    "x = np.arange(50)\n",
    "psi = [D(0),D(1e-40)]\n",
    "E=D(4.0)\n",
    "m=D(1e-15)\n",
    "h=D(1e-34)\n",
    "epsl=D(1e-20)\n",
    "def Next_psi():\n",
    "    return ( 2*m/h**2 * epsl**2 * (v-E) - D(2) ) * psi[-1] - psi[-2]\n",
    "for i in range (0,len(x)-2):\n",
    "    if x[i]<=20 and x[i]>=1:\n",
    "            v = D(4.0)\n",
    "    if x[i]<<1 or x[i]>>20:\n",
    "            v = D(1e10)\n",
    "    psi.append(Next_psi())\n",
    "import matplotlib.pyplot as plt\n",
    "plt.xlim(0, 20.0)\n",
    "plt.ylim(-10,100000000000000000)\n",
    "plt.plot(x,psi)\n",
    "#print(psi)\n",
    "\n"
   ]
  },
  {
   "cell_type": "code",
   "execution_count": null,
   "metadata": {},
   "outputs": [],
   "source": []
  },
  {
   "cell_type": "code",
   "execution_count": null,
   "metadata": {},
   "outputs": [],
   "source": []
  },
  {
   "cell_type": "code",
   "execution_count": null,
   "metadata": {},
   "outputs": [],
   "source": []
  }
 ],
 "metadata": {
  "kernelspec": {
   "display_name": "Python 3",
   "language": "python",
   "name": "python3"
  },
  "language_info": {
   "codemirror_mode": {
    "name": "ipython",
    "version": 3
   },
   "file_extension": ".py",
   "mimetype": "text/x-python",
   "name": "python",
   "nbconvert_exporter": "python",
   "pygments_lexer": "ipython3",
   "version": "3.6.5"
  }
 },
 "nbformat": 4,
 "nbformat_minor": 2
}
